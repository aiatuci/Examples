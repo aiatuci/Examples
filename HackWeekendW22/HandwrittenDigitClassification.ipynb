{
  "nbformat": 4,
  "nbformat_minor": 0,
  "metadata": {
    "colab": {
      "name": "IntroWorkshop.ipynb",
      "provenance": []
    },
    "kernelspec": {
      "name": "python3",
      "display_name": "Python 3"
    },
    "language_info": {
      "name": "python"
    },
    "accelerator": "GPU",
    "widgets": {
      "application/vnd.jupyter.widget-state+json": {
        "5e14718b03c748aea25f067bd5b6285c": {
          "model_module": "@jupyter-widgets/controls",
          "model_name": "HBoxModel",
          "model_module_version": "1.5.0",
          "state": {
            "_view_name": "HBoxView",
            "_dom_classes": [],
            "_model_name": "HBoxModel",
            "_view_module": "@jupyter-widgets/controls",
            "_model_module_version": "1.5.0",
            "_view_count": null,
            "_view_module_version": "1.5.0",
            "box_style": "",
            "layout": "IPY_MODEL_e549073f072748c0aff8c5e5b1214af2",
            "_model_module": "@jupyter-widgets/controls",
            "children": [
              "IPY_MODEL_d14b948dd428426388633c5d1079fbfb",
              "IPY_MODEL_a9e9fbdc109443b38fa9c017b5e887b8",
              "IPY_MODEL_9646e14a3d1940ffa07190753e70de8d"
            ]
          }
        },
        "e549073f072748c0aff8c5e5b1214af2": {
          "model_module": "@jupyter-widgets/base",
          "model_name": "LayoutModel",
          "model_module_version": "1.2.0",
          "state": {
            "_view_name": "LayoutView",
            "grid_template_rows": null,
            "right": null,
            "justify_content": null,
            "_view_module": "@jupyter-widgets/base",
            "overflow": null,
            "_model_module_version": "1.2.0",
            "_view_count": null,
            "flex_flow": null,
            "width": null,
            "min_width": null,
            "border": null,
            "align_items": null,
            "bottom": null,
            "_model_module": "@jupyter-widgets/base",
            "top": null,
            "grid_column": null,
            "overflow_y": null,
            "overflow_x": null,
            "grid_auto_flow": null,
            "grid_area": null,
            "grid_template_columns": null,
            "flex": null,
            "_model_name": "LayoutModel",
            "justify_items": null,
            "grid_row": null,
            "max_height": null,
            "align_content": null,
            "visibility": null,
            "align_self": null,
            "height": null,
            "min_height": null,
            "padding": null,
            "grid_auto_rows": null,
            "grid_gap": null,
            "max_width": null,
            "order": null,
            "_view_module_version": "1.2.0",
            "grid_template_areas": null,
            "object_position": null,
            "object_fit": null,
            "grid_auto_columns": null,
            "margin": null,
            "display": null,
            "left": null
          }
        },
        "d14b948dd428426388633c5d1079fbfb": {
          "model_module": "@jupyter-widgets/controls",
          "model_name": "HTMLModel",
          "model_module_version": "1.5.0",
          "state": {
            "_view_name": "HTMLView",
            "style": "IPY_MODEL_40b118650c324823a3a4c89f97339824",
            "_dom_classes": [],
            "description": "",
            "_model_name": "HTMLModel",
            "placeholder": "​",
            "_view_module": "@jupyter-widgets/controls",
            "_model_module_version": "1.5.0",
            "value": "",
            "_view_count": null,
            "_view_module_version": "1.5.0",
            "description_tooltip": null,
            "_model_module": "@jupyter-widgets/controls",
            "layout": "IPY_MODEL_27cf0af376ba41c28ebf4c3686858999"
          }
        },
        "a9e9fbdc109443b38fa9c017b5e887b8": {
          "model_module": "@jupyter-widgets/controls",
          "model_name": "FloatProgressModel",
          "model_module_version": "1.5.0",
          "state": {
            "_view_name": "ProgressView",
            "style": "IPY_MODEL_dff8343d51e845d9965f55a4be9698d9",
            "_dom_classes": [],
            "description": "",
            "_model_name": "FloatProgressModel",
            "bar_style": "success",
            "max": 9912422,
            "_view_module": "@jupyter-widgets/controls",
            "_model_module_version": "1.5.0",
            "value": 9912422,
            "_view_count": null,
            "_view_module_version": "1.5.0",
            "orientation": "horizontal",
            "min": 0,
            "description_tooltip": null,
            "_model_module": "@jupyter-widgets/controls",
            "layout": "IPY_MODEL_dd53fd7696eb472a99a2cb5c89cdb870"
          }
        },
        "9646e14a3d1940ffa07190753e70de8d": {
          "model_module": "@jupyter-widgets/controls",
          "model_name": "HTMLModel",
          "model_module_version": "1.5.0",
          "state": {
            "_view_name": "HTMLView",
            "style": "IPY_MODEL_5731b3fb2ef14f28897b6ccd0b555761",
            "_dom_classes": [],
            "description": "",
            "_model_name": "HTMLModel",
            "placeholder": "​",
            "_view_module": "@jupyter-widgets/controls",
            "_model_module_version": "1.5.0",
            "value": " 9913344/? [00:00&lt;00:00, 12046536.65it/s]",
            "_view_count": null,
            "_view_module_version": "1.5.0",
            "description_tooltip": null,
            "_model_module": "@jupyter-widgets/controls",
            "layout": "IPY_MODEL_1918b8b17d6549a1b8d79042a6ea8bcc"
          }
        },
        "40b118650c324823a3a4c89f97339824": {
          "model_module": "@jupyter-widgets/controls",
          "model_name": "DescriptionStyleModel",
          "model_module_version": "1.5.0",
          "state": {
            "_view_name": "StyleView",
            "_model_name": "DescriptionStyleModel",
            "description_width": "",
            "_view_module": "@jupyter-widgets/base",
            "_model_module_version": "1.5.0",
            "_view_count": null,
            "_view_module_version": "1.2.0",
            "_model_module": "@jupyter-widgets/controls"
          }
        },
        "27cf0af376ba41c28ebf4c3686858999": {
          "model_module": "@jupyter-widgets/base",
          "model_name": "LayoutModel",
          "model_module_version": "1.2.0",
          "state": {
            "_view_name": "LayoutView",
            "grid_template_rows": null,
            "right": null,
            "justify_content": null,
            "_view_module": "@jupyter-widgets/base",
            "overflow": null,
            "_model_module_version": "1.2.0",
            "_view_count": null,
            "flex_flow": null,
            "width": null,
            "min_width": null,
            "border": null,
            "align_items": null,
            "bottom": null,
            "_model_module": "@jupyter-widgets/base",
            "top": null,
            "grid_column": null,
            "overflow_y": null,
            "overflow_x": null,
            "grid_auto_flow": null,
            "grid_area": null,
            "grid_template_columns": null,
            "flex": null,
            "_model_name": "LayoutModel",
            "justify_items": null,
            "grid_row": null,
            "max_height": null,
            "align_content": null,
            "visibility": null,
            "align_self": null,
            "height": null,
            "min_height": null,
            "padding": null,
            "grid_auto_rows": null,
            "grid_gap": null,
            "max_width": null,
            "order": null,
            "_view_module_version": "1.2.0",
            "grid_template_areas": null,
            "object_position": null,
            "object_fit": null,
            "grid_auto_columns": null,
            "margin": null,
            "display": null,
            "left": null
          }
        },
        "dff8343d51e845d9965f55a4be9698d9": {
          "model_module": "@jupyter-widgets/controls",
          "model_name": "ProgressStyleModel",
          "model_module_version": "1.5.0",
          "state": {
            "_view_name": "StyleView",
            "_model_name": "ProgressStyleModel",
            "description_width": "",
            "_view_module": "@jupyter-widgets/base",
            "_model_module_version": "1.5.0",
            "_view_count": null,
            "_view_module_version": "1.2.0",
            "bar_color": null,
            "_model_module": "@jupyter-widgets/controls"
          }
        },
        "dd53fd7696eb472a99a2cb5c89cdb870": {
          "model_module": "@jupyter-widgets/base",
          "model_name": "LayoutModel",
          "model_module_version": "1.2.0",
          "state": {
            "_view_name": "LayoutView",
            "grid_template_rows": null,
            "right": null,
            "justify_content": null,
            "_view_module": "@jupyter-widgets/base",
            "overflow": null,
            "_model_module_version": "1.2.0",
            "_view_count": null,
            "flex_flow": null,
            "width": null,
            "min_width": null,
            "border": null,
            "align_items": null,
            "bottom": null,
            "_model_module": "@jupyter-widgets/base",
            "top": null,
            "grid_column": null,
            "overflow_y": null,
            "overflow_x": null,
            "grid_auto_flow": null,
            "grid_area": null,
            "grid_template_columns": null,
            "flex": null,
            "_model_name": "LayoutModel",
            "justify_items": null,
            "grid_row": null,
            "max_height": null,
            "align_content": null,
            "visibility": null,
            "align_self": null,
            "height": null,
            "min_height": null,
            "padding": null,
            "grid_auto_rows": null,
            "grid_gap": null,
            "max_width": null,
            "order": null,
            "_view_module_version": "1.2.0",
            "grid_template_areas": null,
            "object_position": null,
            "object_fit": null,
            "grid_auto_columns": null,
            "margin": null,
            "display": null,
            "left": null
          }
        },
        "5731b3fb2ef14f28897b6ccd0b555761": {
          "model_module": "@jupyter-widgets/controls",
          "model_name": "DescriptionStyleModel",
          "model_module_version": "1.5.0",
          "state": {
            "_view_name": "StyleView",
            "_model_name": "DescriptionStyleModel",
            "description_width": "",
            "_view_module": "@jupyter-widgets/base",
            "_model_module_version": "1.5.0",
            "_view_count": null,
            "_view_module_version": "1.2.0",
            "_model_module": "@jupyter-widgets/controls"
          }
        },
        "1918b8b17d6549a1b8d79042a6ea8bcc": {
          "model_module": "@jupyter-widgets/base",
          "model_name": "LayoutModel",
          "model_module_version": "1.2.0",
          "state": {
            "_view_name": "LayoutView",
            "grid_template_rows": null,
            "right": null,
            "justify_content": null,
            "_view_module": "@jupyter-widgets/base",
            "overflow": null,
            "_model_module_version": "1.2.0",
            "_view_count": null,
            "flex_flow": null,
            "width": null,
            "min_width": null,
            "border": null,
            "align_items": null,
            "bottom": null,
            "_model_module": "@jupyter-widgets/base",
            "top": null,
            "grid_column": null,
            "overflow_y": null,
            "overflow_x": null,
            "grid_auto_flow": null,
            "grid_area": null,
            "grid_template_columns": null,
            "flex": null,
            "_model_name": "LayoutModel",
            "justify_items": null,
            "grid_row": null,
            "max_height": null,
            "align_content": null,
            "visibility": null,
            "align_self": null,
            "height": null,
            "min_height": null,
            "padding": null,
            "grid_auto_rows": null,
            "grid_gap": null,
            "max_width": null,
            "order": null,
            "_view_module_version": "1.2.0",
            "grid_template_areas": null,
            "object_position": null,
            "object_fit": null,
            "grid_auto_columns": null,
            "margin": null,
            "display": null,
            "left": null
          }
        },
        "1903a5b74ad94968903f0c358cb1fd10": {
          "model_module": "@jupyter-widgets/controls",
          "model_name": "HBoxModel",
          "model_module_version": "1.5.0",
          "state": {
            "_view_name": "HBoxView",
            "_dom_classes": [],
            "_model_name": "HBoxModel",
            "_view_module": "@jupyter-widgets/controls",
            "_model_module_version": "1.5.0",
            "_view_count": null,
            "_view_module_version": "1.5.0",
            "box_style": "",
            "layout": "IPY_MODEL_7b43ec8c61c64bdb83cbe23d005f0907",
            "_model_module": "@jupyter-widgets/controls",
            "children": [
              "IPY_MODEL_7244af1aceef480ebcebd5cba98fda57",
              "IPY_MODEL_db654bdd382c43edbe846230304146ff",
              "IPY_MODEL_2a14335fcd224d5b93824826e518dc78"
            ]
          }
        },
        "7b43ec8c61c64bdb83cbe23d005f0907": {
          "model_module": "@jupyter-widgets/base",
          "model_name": "LayoutModel",
          "model_module_version": "1.2.0",
          "state": {
            "_view_name": "LayoutView",
            "grid_template_rows": null,
            "right": null,
            "justify_content": null,
            "_view_module": "@jupyter-widgets/base",
            "overflow": null,
            "_model_module_version": "1.2.0",
            "_view_count": null,
            "flex_flow": null,
            "width": null,
            "min_width": null,
            "border": null,
            "align_items": null,
            "bottom": null,
            "_model_module": "@jupyter-widgets/base",
            "top": null,
            "grid_column": null,
            "overflow_y": null,
            "overflow_x": null,
            "grid_auto_flow": null,
            "grid_area": null,
            "grid_template_columns": null,
            "flex": null,
            "_model_name": "LayoutModel",
            "justify_items": null,
            "grid_row": null,
            "max_height": null,
            "align_content": null,
            "visibility": null,
            "align_self": null,
            "height": null,
            "min_height": null,
            "padding": null,
            "grid_auto_rows": null,
            "grid_gap": null,
            "max_width": null,
            "order": null,
            "_view_module_version": "1.2.0",
            "grid_template_areas": null,
            "object_position": null,
            "object_fit": null,
            "grid_auto_columns": null,
            "margin": null,
            "display": null,
            "left": null
          }
        },
        "7244af1aceef480ebcebd5cba98fda57": {
          "model_module": "@jupyter-widgets/controls",
          "model_name": "HTMLModel",
          "model_module_version": "1.5.0",
          "state": {
            "_view_name": "HTMLView",
            "style": "IPY_MODEL_77dfb43b29c74ba88304f4c0d63606fb",
            "_dom_classes": [],
            "description": "",
            "_model_name": "HTMLModel",
            "placeholder": "​",
            "_view_module": "@jupyter-widgets/controls",
            "_model_module_version": "1.5.0",
            "value": "",
            "_view_count": null,
            "_view_module_version": "1.5.0",
            "description_tooltip": null,
            "_model_module": "@jupyter-widgets/controls",
            "layout": "IPY_MODEL_ba4135f853814c848860a73145f196c6"
          }
        },
        "db654bdd382c43edbe846230304146ff": {
          "model_module": "@jupyter-widgets/controls",
          "model_name": "FloatProgressModel",
          "model_module_version": "1.5.0",
          "state": {
            "_view_name": "ProgressView",
            "style": "IPY_MODEL_b4f53ce49c374ad39aeb2d9d57bc8990",
            "_dom_classes": [],
            "description": "",
            "_model_name": "FloatProgressModel",
            "bar_style": "success",
            "max": 28881,
            "_view_module": "@jupyter-widgets/controls",
            "_model_module_version": "1.5.0",
            "value": 28881,
            "_view_count": null,
            "_view_module_version": "1.5.0",
            "orientation": "horizontal",
            "min": 0,
            "description_tooltip": null,
            "_model_module": "@jupyter-widgets/controls",
            "layout": "IPY_MODEL_e17901eb28b642c8bac01f2470d1850b"
          }
        },
        "2a14335fcd224d5b93824826e518dc78": {
          "model_module": "@jupyter-widgets/controls",
          "model_name": "HTMLModel",
          "model_module_version": "1.5.0",
          "state": {
            "_view_name": "HTMLView",
            "style": "IPY_MODEL_99ebff390d404a93b962a92e62bbb318",
            "_dom_classes": [],
            "description": "",
            "_model_name": "HTMLModel",
            "placeholder": "​",
            "_view_module": "@jupyter-widgets/controls",
            "_model_module_version": "1.5.0",
            "value": " 29696/? [00:00&lt;00:00, 749476.81it/s]",
            "_view_count": null,
            "_view_module_version": "1.5.0",
            "description_tooltip": null,
            "_model_module": "@jupyter-widgets/controls",
            "layout": "IPY_MODEL_3586a5e42995409ba9dabc630daca9c7"
          }
        },
        "77dfb43b29c74ba88304f4c0d63606fb": {
          "model_module": "@jupyter-widgets/controls",
          "model_name": "DescriptionStyleModel",
          "model_module_version": "1.5.0",
          "state": {
            "_view_name": "StyleView",
            "_model_name": "DescriptionStyleModel",
            "description_width": "",
            "_view_module": "@jupyter-widgets/base",
            "_model_module_version": "1.5.0",
            "_view_count": null,
            "_view_module_version": "1.2.0",
            "_model_module": "@jupyter-widgets/controls"
          }
        },
        "ba4135f853814c848860a73145f196c6": {
          "model_module": "@jupyter-widgets/base",
          "model_name": "LayoutModel",
          "model_module_version": "1.2.0",
          "state": {
            "_view_name": "LayoutView",
            "grid_template_rows": null,
            "right": null,
            "justify_content": null,
            "_view_module": "@jupyter-widgets/base",
            "overflow": null,
            "_model_module_version": "1.2.0",
            "_view_count": null,
            "flex_flow": null,
            "width": null,
            "min_width": null,
            "border": null,
            "align_items": null,
            "bottom": null,
            "_model_module": "@jupyter-widgets/base",
            "top": null,
            "grid_column": null,
            "overflow_y": null,
            "overflow_x": null,
            "grid_auto_flow": null,
            "grid_area": null,
            "grid_template_columns": null,
            "flex": null,
            "_model_name": "LayoutModel",
            "justify_items": null,
            "grid_row": null,
            "max_height": null,
            "align_content": null,
            "visibility": null,
            "align_self": null,
            "height": null,
            "min_height": null,
            "padding": null,
            "grid_auto_rows": null,
            "grid_gap": null,
            "max_width": null,
            "order": null,
            "_view_module_version": "1.2.0",
            "grid_template_areas": null,
            "object_position": null,
            "object_fit": null,
            "grid_auto_columns": null,
            "margin": null,
            "display": null,
            "left": null
          }
        },
        "b4f53ce49c374ad39aeb2d9d57bc8990": {
          "model_module": "@jupyter-widgets/controls",
          "model_name": "ProgressStyleModel",
          "model_module_version": "1.5.0",
          "state": {
            "_view_name": "StyleView",
            "_model_name": "ProgressStyleModel",
            "description_width": "",
            "_view_module": "@jupyter-widgets/base",
            "_model_module_version": "1.5.0",
            "_view_count": null,
            "_view_module_version": "1.2.0",
            "bar_color": null,
            "_model_module": "@jupyter-widgets/controls"
          }
        },
        "e17901eb28b642c8bac01f2470d1850b": {
          "model_module": "@jupyter-widgets/base",
          "model_name": "LayoutModel",
          "model_module_version": "1.2.0",
          "state": {
            "_view_name": "LayoutView",
            "grid_template_rows": null,
            "right": null,
            "justify_content": null,
            "_view_module": "@jupyter-widgets/base",
            "overflow": null,
            "_model_module_version": "1.2.0",
            "_view_count": null,
            "flex_flow": null,
            "width": null,
            "min_width": null,
            "border": null,
            "align_items": null,
            "bottom": null,
            "_model_module": "@jupyter-widgets/base",
            "top": null,
            "grid_column": null,
            "overflow_y": null,
            "overflow_x": null,
            "grid_auto_flow": null,
            "grid_area": null,
            "grid_template_columns": null,
            "flex": null,
            "_model_name": "LayoutModel",
            "justify_items": null,
            "grid_row": null,
            "max_height": null,
            "align_content": null,
            "visibility": null,
            "align_self": null,
            "height": null,
            "min_height": null,
            "padding": null,
            "grid_auto_rows": null,
            "grid_gap": null,
            "max_width": null,
            "order": null,
            "_view_module_version": "1.2.0",
            "grid_template_areas": null,
            "object_position": null,
            "object_fit": null,
            "grid_auto_columns": null,
            "margin": null,
            "display": null,
            "left": null
          }
        },
        "99ebff390d404a93b962a92e62bbb318": {
          "model_module": "@jupyter-widgets/controls",
          "model_name": "DescriptionStyleModel",
          "model_module_version": "1.5.0",
          "state": {
            "_view_name": "StyleView",
            "_model_name": "DescriptionStyleModel",
            "description_width": "",
            "_view_module": "@jupyter-widgets/base",
            "_model_module_version": "1.5.0",
            "_view_count": null,
            "_view_module_version": "1.2.0",
            "_model_module": "@jupyter-widgets/controls"
          }
        },
        "3586a5e42995409ba9dabc630daca9c7": {
          "model_module": "@jupyter-widgets/base",
          "model_name": "LayoutModel",
          "model_module_version": "1.2.0",
          "state": {
            "_view_name": "LayoutView",
            "grid_template_rows": null,
            "right": null,
            "justify_content": null,
            "_view_module": "@jupyter-widgets/base",
            "overflow": null,
            "_model_module_version": "1.2.0",
            "_view_count": null,
            "flex_flow": null,
            "width": null,
            "min_width": null,
            "border": null,
            "align_items": null,
            "bottom": null,
            "_model_module": "@jupyter-widgets/base",
            "top": null,
            "grid_column": null,
            "overflow_y": null,
            "overflow_x": null,
            "grid_auto_flow": null,
            "grid_area": null,
            "grid_template_columns": null,
            "flex": null,
            "_model_name": "LayoutModel",
            "justify_items": null,
            "grid_row": null,
            "max_height": null,
            "align_content": null,
            "visibility": null,
            "align_self": null,
            "height": null,
            "min_height": null,
            "padding": null,
            "grid_auto_rows": null,
            "grid_gap": null,
            "max_width": null,
            "order": null,
            "_view_module_version": "1.2.0",
            "grid_template_areas": null,
            "object_position": null,
            "object_fit": null,
            "grid_auto_columns": null,
            "margin": null,
            "display": null,
            "left": null
          }
        },
        "d337e89225394f319c9c83692cf971d2": {
          "model_module": "@jupyter-widgets/controls",
          "model_name": "HBoxModel",
          "model_module_version": "1.5.0",
          "state": {
            "_view_name": "HBoxView",
            "_dom_classes": [],
            "_model_name": "HBoxModel",
            "_view_module": "@jupyter-widgets/controls",
            "_model_module_version": "1.5.0",
            "_view_count": null,
            "_view_module_version": "1.5.0",
            "box_style": "",
            "layout": "IPY_MODEL_a607b12c0aac4df1a5efa8f2259ff6fb",
            "_model_module": "@jupyter-widgets/controls",
            "children": [
              "IPY_MODEL_4907b41e4abc411eb55f2289dd7d49fc",
              "IPY_MODEL_53a7edacce984aea9eae1812cc7c96fc",
              "IPY_MODEL_75f6c4663b1441a5a674dca22656045c"
            ]
          }
        },
        "a607b12c0aac4df1a5efa8f2259ff6fb": {
          "model_module": "@jupyter-widgets/base",
          "model_name": "LayoutModel",
          "model_module_version": "1.2.0",
          "state": {
            "_view_name": "LayoutView",
            "grid_template_rows": null,
            "right": null,
            "justify_content": null,
            "_view_module": "@jupyter-widgets/base",
            "overflow": null,
            "_model_module_version": "1.2.0",
            "_view_count": null,
            "flex_flow": null,
            "width": null,
            "min_width": null,
            "border": null,
            "align_items": null,
            "bottom": null,
            "_model_module": "@jupyter-widgets/base",
            "top": null,
            "grid_column": null,
            "overflow_y": null,
            "overflow_x": null,
            "grid_auto_flow": null,
            "grid_area": null,
            "grid_template_columns": null,
            "flex": null,
            "_model_name": "LayoutModel",
            "justify_items": null,
            "grid_row": null,
            "max_height": null,
            "align_content": null,
            "visibility": null,
            "align_self": null,
            "height": null,
            "min_height": null,
            "padding": null,
            "grid_auto_rows": null,
            "grid_gap": null,
            "max_width": null,
            "order": null,
            "_view_module_version": "1.2.0",
            "grid_template_areas": null,
            "object_position": null,
            "object_fit": null,
            "grid_auto_columns": null,
            "margin": null,
            "display": null,
            "left": null
          }
        },
        "4907b41e4abc411eb55f2289dd7d49fc": {
          "model_module": "@jupyter-widgets/controls",
          "model_name": "HTMLModel",
          "model_module_version": "1.5.0",
          "state": {
            "_view_name": "HTMLView",
            "style": "IPY_MODEL_ffd649b4964a454cb51eeb6a9828276e",
            "_dom_classes": [],
            "description": "",
            "_model_name": "HTMLModel",
            "placeholder": "​",
            "_view_module": "@jupyter-widgets/controls",
            "_model_module_version": "1.5.0",
            "value": "",
            "_view_count": null,
            "_view_module_version": "1.5.0",
            "description_tooltip": null,
            "_model_module": "@jupyter-widgets/controls",
            "layout": "IPY_MODEL_1df06e248cf4488db144ae5f495e77bd"
          }
        },
        "53a7edacce984aea9eae1812cc7c96fc": {
          "model_module": "@jupyter-widgets/controls",
          "model_name": "FloatProgressModel",
          "model_module_version": "1.5.0",
          "state": {
            "_view_name": "ProgressView",
            "style": "IPY_MODEL_b23b05dffef64a1aaa6c787c0066b00a",
            "_dom_classes": [],
            "description": "",
            "_model_name": "FloatProgressModel",
            "bar_style": "success",
            "max": 1648877,
            "_view_module": "@jupyter-widgets/controls",
            "_model_module_version": "1.5.0",
            "value": 1648877,
            "_view_count": null,
            "_view_module_version": "1.5.0",
            "orientation": "horizontal",
            "min": 0,
            "description_tooltip": null,
            "_model_module": "@jupyter-widgets/controls",
            "layout": "IPY_MODEL_d8a7277ea880434eb2c401301157b3ed"
          }
        },
        "75f6c4663b1441a5a674dca22656045c": {
          "model_module": "@jupyter-widgets/controls",
          "model_name": "HTMLModel",
          "model_module_version": "1.5.0",
          "state": {
            "_view_name": "HTMLView",
            "style": "IPY_MODEL_5bbce738b0554b0c9116a98b03786537",
            "_dom_classes": [],
            "description": "",
            "_model_name": "HTMLModel",
            "placeholder": "​",
            "_view_module": "@jupyter-widgets/controls",
            "_model_module_version": "1.5.0",
            "value": " 1649664/? [00:00&lt;00:00, 2228125.44it/s]",
            "_view_count": null,
            "_view_module_version": "1.5.0",
            "description_tooltip": null,
            "_model_module": "@jupyter-widgets/controls",
            "layout": "IPY_MODEL_0a4df10be902460298bc0ae9f9e90e1d"
          }
        },
        "ffd649b4964a454cb51eeb6a9828276e": {
          "model_module": "@jupyter-widgets/controls",
          "model_name": "DescriptionStyleModel",
          "model_module_version": "1.5.0",
          "state": {
            "_view_name": "StyleView",
            "_model_name": "DescriptionStyleModel",
            "description_width": "",
            "_view_module": "@jupyter-widgets/base",
            "_model_module_version": "1.5.0",
            "_view_count": null,
            "_view_module_version": "1.2.0",
            "_model_module": "@jupyter-widgets/controls"
          }
        },
        "1df06e248cf4488db144ae5f495e77bd": {
          "model_module": "@jupyter-widgets/base",
          "model_name": "LayoutModel",
          "model_module_version": "1.2.0",
          "state": {
            "_view_name": "LayoutView",
            "grid_template_rows": null,
            "right": null,
            "justify_content": null,
            "_view_module": "@jupyter-widgets/base",
            "overflow": null,
            "_model_module_version": "1.2.0",
            "_view_count": null,
            "flex_flow": null,
            "width": null,
            "min_width": null,
            "border": null,
            "align_items": null,
            "bottom": null,
            "_model_module": "@jupyter-widgets/base",
            "top": null,
            "grid_column": null,
            "overflow_y": null,
            "overflow_x": null,
            "grid_auto_flow": null,
            "grid_area": null,
            "grid_template_columns": null,
            "flex": null,
            "_model_name": "LayoutModel",
            "justify_items": null,
            "grid_row": null,
            "max_height": null,
            "align_content": null,
            "visibility": null,
            "align_self": null,
            "height": null,
            "min_height": null,
            "padding": null,
            "grid_auto_rows": null,
            "grid_gap": null,
            "max_width": null,
            "order": null,
            "_view_module_version": "1.2.0",
            "grid_template_areas": null,
            "object_position": null,
            "object_fit": null,
            "grid_auto_columns": null,
            "margin": null,
            "display": null,
            "left": null
          }
        },
        "b23b05dffef64a1aaa6c787c0066b00a": {
          "model_module": "@jupyter-widgets/controls",
          "model_name": "ProgressStyleModel",
          "model_module_version": "1.5.0",
          "state": {
            "_view_name": "StyleView",
            "_model_name": "ProgressStyleModel",
            "description_width": "",
            "_view_module": "@jupyter-widgets/base",
            "_model_module_version": "1.5.0",
            "_view_count": null,
            "_view_module_version": "1.2.0",
            "bar_color": null,
            "_model_module": "@jupyter-widgets/controls"
          }
        },
        "d8a7277ea880434eb2c401301157b3ed": {
          "model_module": "@jupyter-widgets/base",
          "model_name": "LayoutModel",
          "model_module_version": "1.2.0",
          "state": {
            "_view_name": "LayoutView",
            "grid_template_rows": null,
            "right": null,
            "justify_content": null,
            "_view_module": "@jupyter-widgets/base",
            "overflow": null,
            "_model_module_version": "1.2.0",
            "_view_count": null,
            "flex_flow": null,
            "width": null,
            "min_width": null,
            "border": null,
            "align_items": null,
            "bottom": null,
            "_model_module": "@jupyter-widgets/base",
            "top": null,
            "grid_column": null,
            "overflow_y": null,
            "overflow_x": null,
            "grid_auto_flow": null,
            "grid_area": null,
            "grid_template_columns": null,
            "flex": null,
            "_model_name": "LayoutModel",
            "justify_items": null,
            "grid_row": null,
            "max_height": null,
            "align_content": null,
            "visibility": null,
            "align_self": null,
            "height": null,
            "min_height": null,
            "padding": null,
            "grid_auto_rows": null,
            "grid_gap": null,
            "max_width": null,
            "order": null,
            "_view_module_version": "1.2.0",
            "grid_template_areas": null,
            "object_position": null,
            "object_fit": null,
            "grid_auto_columns": null,
            "margin": null,
            "display": null,
            "left": null
          }
        },
        "5bbce738b0554b0c9116a98b03786537": {
          "model_module": "@jupyter-widgets/controls",
          "model_name": "DescriptionStyleModel",
          "model_module_version": "1.5.0",
          "state": {
            "_view_name": "StyleView",
            "_model_name": "DescriptionStyleModel",
            "description_width": "",
            "_view_module": "@jupyter-widgets/base",
            "_model_module_version": "1.5.0",
            "_view_count": null,
            "_view_module_version": "1.2.0",
            "_model_module": "@jupyter-widgets/controls"
          }
        },
        "0a4df10be902460298bc0ae9f9e90e1d": {
          "model_module": "@jupyter-widgets/base",
          "model_name": "LayoutModel",
          "model_module_version": "1.2.0",
          "state": {
            "_view_name": "LayoutView",
            "grid_template_rows": null,
            "right": null,
            "justify_content": null,
            "_view_module": "@jupyter-widgets/base",
            "overflow": null,
            "_model_module_version": "1.2.0",
            "_view_count": null,
            "flex_flow": null,
            "width": null,
            "min_width": null,
            "border": null,
            "align_items": null,
            "bottom": null,
            "_model_module": "@jupyter-widgets/base",
            "top": null,
            "grid_column": null,
            "overflow_y": null,
            "overflow_x": null,
            "grid_auto_flow": null,
            "grid_area": null,
            "grid_template_columns": null,
            "flex": null,
            "_model_name": "LayoutModel",
            "justify_items": null,
            "grid_row": null,
            "max_height": null,
            "align_content": null,
            "visibility": null,
            "align_self": null,
            "height": null,
            "min_height": null,
            "padding": null,
            "grid_auto_rows": null,
            "grid_gap": null,
            "max_width": null,
            "order": null,
            "_view_module_version": "1.2.0",
            "grid_template_areas": null,
            "object_position": null,
            "object_fit": null,
            "grid_auto_columns": null,
            "margin": null,
            "display": null,
            "left": null
          }
        },
        "330282b1fe6d4aa79db5714524d0cb59": {
          "model_module": "@jupyter-widgets/controls",
          "model_name": "HBoxModel",
          "model_module_version": "1.5.0",
          "state": {
            "_view_name": "HBoxView",
            "_dom_classes": [],
            "_model_name": "HBoxModel",
            "_view_module": "@jupyter-widgets/controls",
            "_model_module_version": "1.5.0",
            "_view_count": null,
            "_view_module_version": "1.5.0",
            "box_style": "",
            "layout": "IPY_MODEL_c44246bacba741bdb11368a8044a9e94",
            "_model_module": "@jupyter-widgets/controls",
            "children": [
              "IPY_MODEL_a9770dd8e9084657b26290e74b5eeade",
              "IPY_MODEL_b1f4c9ed6ba94c4cb3673733352c2e3a",
              "IPY_MODEL_0aa903e56957498d82d994cab7b4c243"
            ]
          }
        },
        "c44246bacba741bdb11368a8044a9e94": {
          "model_module": "@jupyter-widgets/base",
          "model_name": "LayoutModel",
          "model_module_version": "1.2.0",
          "state": {
            "_view_name": "LayoutView",
            "grid_template_rows": null,
            "right": null,
            "justify_content": null,
            "_view_module": "@jupyter-widgets/base",
            "overflow": null,
            "_model_module_version": "1.2.0",
            "_view_count": null,
            "flex_flow": null,
            "width": null,
            "min_width": null,
            "border": null,
            "align_items": null,
            "bottom": null,
            "_model_module": "@jupyter-widgets/base",
            "top": null,
            "grid_column": null,
            "overflow_y": null,
            "overflow_x": null,
            "grid_auto_flow": null,
            "grid_area": null,
            "grid_template_columns": null,
            "flex": null,
            "_model_name": "LayoutModel",
            "justify_items": null,
            "grid_row": null,
            "max_height": null,
            "align_content": null,
            "visibility": null,
            "align_self": null,
            "height": null,
            "min_height": null,
            "padding": null,
            "grid_auto_rows": null,
            "grid_gap": null,
            "max_width": null,
            "order": null,
            "_view_module_version": "1.2.0",
            "grid_template_areas": null,
            "object_position": null,
            "object_fit": null,
            "grid_auto_columns": null,
            "margin": null,
            "display": null,
            "left": null
          }
        },
        "a9770dd8e9084657b26290e74b5eeade": {
          "model_module": "@jupyter-widgets/controls",
          "model_name": "HTMLModel",
          "model_module_version": "1.5.0",
          "state": {
            "_view_name": "HTMLView",
            "style": "IPY_MODEL_23fe6caa5ab14b74bf7b6c5e1a36a0c4",
            "_dom_classes": [],
            "description": "",
            "_model_name": "HTMLModel",
            "placeholder": "​",
            "_view_module": "@jupyter-widgets/controls",
            "_model_module_version": "1.5.0",
            "value": "",
            "_view_count": null,
            "_view_module_version": "1.5.0",
            "description_tooltip": null,
            "_model_module": "@jupyter-widgets/controls",
            "layout": "IPY_MODEL_c40666ad71764a8ea43d10f6ddf1ad28"
          }
        },
        "b1f4c9ed6ba94c4cb3673733352c2e3a": {
          "model_module": "@jupyter-widgets/controls",
          "model_name": "FloatProgressModel",
          "model_module_version": "1.5.0",
          "state": {
            "_view_name": "ProgressView",
            "style": "IPY_MODEL_8d49727f1e89481ea3174878f4965854",
            "_dom_classes": [],
            "description": "",
            "_model_name": "FloatProgressModel",
            "bar_style": "success",
            "max": 4542,
            "_view_module": "@jupyter-widgets/controls",
            "_model_module_version": "1.5.0",
            "value": 4542,
            "_view_count": null,
            "_view_module_version": "1.5.0",
            "orientation": "horizontal",
            "min": 0,
            "description_tooltip": null,
            "_model_module": "@jupyter-widgets/controls",
            "layout": "IPY_MODEL_1e6dfd004adf43d7b58f44e5f8d2a6b2"
          }
        },
        "0aa903e56957498d82d994cab7b4c243": {
          "model_module": "@jupyter-widgets/controls",
          "model_name": "HTMLModel",
          "model_module_version": "1.5.0",
          "state": {
            "_view_name": "HTMLView",
            "style": "IPY_MODEL_86f5a49938504036974fbe77f09c58c0",
            "_dom_classes": [],
            "description": "",
            "_model_name": "HTMLModel",
            "placeholder": "​",
            "_view_module": "@jupyter-widgets/controls",
            "_model_module_version": "1.5.0",
            "value": " 5120/? [00:00&lt;00:00, 172569.04it/s]",
            "_view_count": null,
            "_view_module_version": "1.5.0",
            "description_tooltip": null,
            "_model_module": "@jupyter-widgets/controls",
            "layout": "IPY_MODEL_1cc4b055da2a47a7b65d347844331e3f"
          }
        },
        "23fe6caa5ab14b74bf7b6c5e1a36a0c4": {
          "model_module": "@jupyter-widgets/controls",
          "model_name": "DescriptionStyleModel",
          "model_module_version": "1.5.0",
          "state": {
            "_view_name": "StyleView",
            "_model_name": "DescriptionStyleModel",
            "description_width": "",
            "_view_module": "@jupyter-widgets/base",
            "_model_module_version": "1.5.0",
            "_view_count": null,
            "_view_module_version": "1.2.0",
            "_model_module": "@jupyter-widgets/controls"
          }
        },
        "c40666ad71764a8ea43d10f6ddf1ad28": {
          "model_module": "@jupyter-widgets/base",
          "model_name": "LayoutModel",
          "model_module_version": "1.2.0",
          "state": {
            "_view_name": "LayoutView",
            "grid_template_rows": null,
            "right": null,
            "justify_content": null,
            "_view_module": "@jupyter-widgets/base",
            "overflow": null,
            "_model_module_version": "1.2.0",
            "_view_count": null,
            "flex_flow": null,
            "width": null,
            "min_width": null,
            "border": null,
            "align_items": null,
            "bottom": null,
            "_model_module": "@jupyter-widgets/base",
            "top": null,
            "grid_column": null,
            "overflow_y": null,
            "overflow_x": null,
            "grid_auto_flow": null,
            "grid_area": null,
            "grid_template_columns": null,
            "flex": null,
            "_model_name": "LayoutModel",
            "justify_items": null,
            "grid_row": null,
            "max_height": null,
            "align_content": null,
            "visibility": null,
            "align_self": null,
            "height": null,
            "min_height": null,
            "padding": null,
            "grid_auto_rows": null,
            "grid_gap": null,
            "max_width": null,
            "order": null,
            "_view_module_version": "1.2.0",
            "grid_template_areas": null,
            "object_position": null,
            "object_fit": null,
            "grid_auto_columns": null,
            "margin": null,
            "display": null,
            "left": null
          }
        },
        "8d49727f1e89481ea3174878f4965854": {
          "model_module": "@jupyter-widgets/controls",
          "model_name": "ProgressStyleModel",
          "model_module_version": "1.5.0",
          "state": {
            "_view_name": "StyleView",
            "_model_name": "ProgressStyleModel",
            "description_width": "",
            "_view_module": "@jupyter-widgets/base",
            "_model_module_version": "1.5.0",
            "_view_count": null,
            "_view_module_version": "1.2.0",
            "bar_color": null,
            "_model_module": "@jupyter-widgets/controls"
          }
        },
        "1e6dfd004adf43d7b58f44e5f8d2a6b2": {
          "model_module": "@jupyter-widgets/base",
          "model_name": "LayoutModel",
          "model_module_version": "1.2.0",
          "state": {
            "_view_name": "LayoutView",
            "grid_template_rows": null,
            "right": null,
            "justify_content": null,
            "_view_module": "@jupyter-widgets/base",
            "overflow": null,
            "_model_module_version": "1.2.0",
            "_view_count": null,
            "flex_flow": null,
            "width": null,
            "min_width": null,
            "border": null,
            "align_items": null,
            "bottom": null,
            "_model_module": "@jupyter-widgets/base",
            "top": null,
            "grid_column": null,
            "overflow_y": null,
            "overflow_x": null,
            "grid_auto_flow": null,
            "grid_area": null,
            "grid_template_columns": null,
            "flex": null,
            "_model_name": "LayoutModel",
            "justify_items": null,
            "grid_row": null,
            "max_height": null,
            "align_content": null,
            "visibility": null,
            "align_self": null,
            "height": null,
            "min_height": null,
            "padding": null,
            "grid_auto_rows": null,
            "grid_gap": null,
            "max_width": null,
            "order": null,
            "_view_module_version": "1.2.0",
            "grid_template_areas": null,
            "object_position": null,
            "object_fit": null,
            "grid_auto_columns": null,
            "margin": null,
            "display": null,
            "left": null
          }
        },
        "86f5a49938504036974fbe77f09c58c0": {
          "model_module": "@jupyter-widgets/controls",
          "model_name": "DescriptionStyleModel",
          "model_module_version": "1.5.0",
          "state": {
            "_view_name": "StyleView",
            "_model_name": "DescriptionStyleModel",
            "description_width": "",
            "_view_module": "@jupyter-widgets/base",
            "_model_module_version": "1.5.0",
            "_view_count": null,
            "_view_module_version": "1.2.0",
            "_model_module": "@jupyter-widgets/controls"
          }
        },
        "1cc4b055da2a47a7b65d347844331e3f": {
          "model_module": "@jupyter-widgets/base",
          "model_name": "LayoutModel",
          "model_module_version": "1.2.0",
          "state": {
            "_view_name": "LayoutView",
            "grid_template_rows": null,
            "right": null,
            "justify_content": null,
            "_view_module": "@jupyter-widgets/base",
            "overflow": null,
            "_model_module_version": "1.2.0",
            "_view_count": null,
            "flex_flow": null,
            "width": null,
            "min_width": null,
            "border": null,
            "align_items": null,
            "bottom": null,
            "_model_module": "@jupyter-widgets/base",
            "top": null,
            "grid_column": null,
            "overflow_y": null,
            "overflow_x": null,
            "grid_auto_flow": null,
            "grid_area": null,
            "grid_template_columns": null,
            "flex": null,
            "_model_name": "LayoutModel",
            "justify_items": null,
            "grid_row": null,
            "max_height": null,
            "align_content": null,
            "visibility": null,
            "align_self": null,
            "height": null,
            "min_height": null,
            "padding": null,
            "grid_auto_rows": null,
            "grid_gap": null,
            "max_width": null,
            "order": null,
            "_view_module_version": "1.2.0",
            "grid_template_areas": null,
            "object_position": null,
            "object_fit": null,
            "grid_auto_columns": null,
            "margin": null,
            "display": null,
            "left": null
          }
        }
      }
    }
  },
  "cells": [
    {
      "cell_type": "markdown",
      "source": [
        "# Classifying Handwritten Digits Using Neural Networks\n",
        "\n",
        "## Imports"
      ],
      "metadata": {
        "id": "gBxKuc_T4BR8"
      }
    },
    {
      "cell_type": "code",
      "execution_count": null,
      "metadata": {
        "id": "h10zR4Rrpdsb"
      },
      "outputs": [],
      "source": [
        "import matplotlib.pyplot as plt\n",
        "import seaborn as sns\n",
        "import torch\n",
        "from torchvision.datasets import MNIST"
      ]
    },
    {
      "cell_type": "markdown",
      "source": [
        "## Dataset\n",
        "\n",
        "[MNIST](http://yann.lecun.com/exdb/mnist/) is a famous dataset that was used in the first practical applications of the backpropagation algorithm by Yann LeCun (Turing Award recipient, and Chief AI Scientist at Meta). It's a labeled dataset collected by the National Institute of Standards and Technology consisting of images of handwritten digits from high schoolers and US Census Bureau employees."
      ],
      "metadata": {
        "id": "UoekSg7T3-BZ"
      }
    },
    {
      "cell_type": "code",
      "source": [
        "dataset = MNIST('./sample_data', train=True, download=True)"
      ],
      "metadata": {
        "id": "Np9jRigpsWeC",
        "colab": {
          "base_uri": "https://localhost:8080/",
          "height": 417,
          "referenced_widgets": [
            "5e14718b03c748aea25f067bd5b6285c",
            "e549073f072748c0aff8c5e5b1214af2",
            "d14b948dd428426388633c5d1079fbfb",
            "a9e9fbdc109443b38fa9c017b5e887b8",
            "9646e14a3d1940ffa07190753e70de8d",
            "40b118650c324823a3a4c89f97339824",
            "27cf0af376ba41c28ebf4c3686858999",
            "dff8343d51e845d9965f55a4be9698d9",
            "dd53fd7696eb472a99a2cb5c89cdb870",
            "5731b3fb2ef14f28897b6ccd0b555761",
            "1918b8b17d6549a1b8d79042a6ea8bcc",
            "1903a5b74ad94968903f0c358cb1fd10",
            "7b43ec8c61c64bdb83cbe23d005f0907",
            "7244af1aceef480ebcebd5cba98fda57",
            "db654bdd382c43edbe846230304146ff",
            "2a14335fcd224d5b93824826e518dc78",
            "77dfb43b29c74ba88304f4c0d63606fb",
            "ba4135f853814c848860a73145f196c6",
            "b4f53ce49c374ad39aeb2d9d57bc8990",
            "e17901eb28b642c8bac01f2470d1850b",
            "99ebff390d404a93b962a92e62bbb318",
            "3586a5e42995409ba9dabc630daca9c7",
            "d337e89225394f319c9c83692cf971d2",
            "a607b12c0aac4df1a5efa8f2259ff6fb",
            "4907b41e4abc411eb55f2289dd7d49fc",
            "53a7edacce984aea9eae1812cc7c96fc",
            "75f6c4663b1441a5a674dca22656045c",
            "ffd649b4964a454cb51eeb6a9828276e",
            "1df06e248cf4488db144ae5f495e77bd",
            "b23b05dffef64a1aaa6c787c0066b00a",
            "d8a7277ea880434eb2c401301157b3ed",
            "5bbce738b0554b0c9116a98b03786537",
            "0a4df10be902460298bc0ae9f9e90e1d",
            "330282b1fe6d4aa79db5714524d0cb59",
            "c44246bacba741bdb11368a8044a9e94",
            "a9770dd8e9084657b26290e74b5eeade",
            "b1f4c9ed6ba94c4cb3673733352c2e3a",
            "0aa903e56957498d82d994cab7b4c243",
            "23fe6caa5ab14b74bf7b6c5e1a36a0c4",
            "c40666ad71764a8ea43d10f6ddf1ad28",
            "8d49727f1e89481ea3174878f4965854",
            "1e6dfd004adf43d7b58f44e5f8d2a6b2",
            "86f5a49938504036974fbe77f09c58c0",
            "1cc4b055da2a47a7b65d347844331e3f"
          ]
        },
        "outputId": "120e1c72-f220-4190-ca92-deea5ec197c3"
      },
      "execution_count": null,
      "outputs": [
        {
          "output_type": "stream",
          "name": "stdout",
          "text": [
            "Downloading http://yann.lecun.com/exdb/mnist/train-images-idx3-ubyte.gz\n",
            "Downloading http://yann.lecun.com/exdb/mnist/train-images-idx3-ubyte.gz to ./sample_data/MNIST/raw/train-images-idx3-ubyte.gz\n"
          ]
        },
        {
          "output_type": "display_data",
          "data": {
            "application/vnd.jupyter.widget-view+json": {
              "model_id": "5e14718b03c748aea25f067bd5b6285c",
              "version_minor": 0,
              "version_major": 2
            },
            "text/plain": [
              "  0%|          | 0/9912422 [00:00<?, ?it/s]"
            ]
          },
          "metadata": {}
        },
        {
          "output_type": "stream",
          "name": "stdout",
          "text": [
            "Extracting ./sample_data/MNIST/raw/train-images-idx3-ubyte.gz to ./sample_data/MNIST/raw\n",
            "\n",
            "Downloading http://yann.lecun.com/exdb/mnist/train-labels-idx1-ubyte.gz\n",
            "Downloading http://yann.lecun.com/exdb/mnist/train-labels-idx1-ubyte.gz to ./sample_data/MNIST/raw/train-labels-idx1-ubyte.gz\n"
          ]
        },
        {
          "output_type": "display_data",
          "data": {
            "application/vnd.jupyter.widget-view+json": {
              "model_id": "1903a5b74ad94968903f0c358cb1fd10",
              "version_minor": 0,
              "version_major": 2
            },
            "text/plain": [
              "  0%|          | 0/28881 [00:00<?, ?it/s]"
            ]
          },
          "metadata": {}
        },
        {
          "output_type": "stream",
          "name": "stdout",
          "text": [
            "Extracting ./sample_data/MNIST/raw/train-labels-idx1-ubyte.gz to ./sample_data/MNIST/raw\n",
            "\n",
            "Downloading http://yann.lecun.com/exdb/mnist/t10k-images-idx3-ubyte.gz\n",
            "Downloading http://yann.lecun.com/exdb/mnist/t10k-images-idx3-ubyte.gz to ./sample_data/MNIST/raw/t10k-images-idx3-ubyte.gz\n"
          ]
        },
        {
          "output_type": "display_data",
          "data": {
            "application/vnd.jupyter.widget-view+json": {
              "model_id": "d337e89225394f319c9c83692cf971d2",
              "version_minor": 0,
              "version_major": 2
            },
            "text/plain": [
              "  0%|          | 0/1648877 [00:00<?, ?it/s]"
            ]
          },
          "metadata": {}
        },
        {
          "output_type": "stream",
          "name": "stdout",
          "text": [
            "Extracting ./sample_data/MNIST/raw/t10k-images-idx3-ubyte.gz to ./sample_data/MNIST/raw\n",
            "\n",
            "Downloading http://yann.lecun.com/exdb/mnist/t10k-labels-idx1-ubyte.gz\n",
            "Downloading http://yann.lecun.com/exdb/mnist/t10k-labels-idx1-ubyte.gz to ./sample_data/MNIST/raw/t10k-labels-idx1-ubyte.gz\n"
          ]
        },
        {
          "output_type": "display_data",
          "data": {
            "application/vnd.jupyter.widget-view+json": {
              "model_id": "330282b1fe6d4aa79db5714524d0cb59",
              "version_minor": 0,
              "version_major": 2
            },
            "text/plain": [
              "  0%|          | 0/4542 [00:00<?, ?it/s]"
            ]
          },
          "metadata": {}
        },
        {
          "output_type": "stream",
          "name": "stdout",
          "text": [
            "Extracting ./sample_data/MNIST/raw/t10k-labels-idx1-ubyte.gz to ./sample_data/MNIST/raw\n",
            "\n"
          ]
        }
      ]
    },
    {
      "cell_type": "markdown",
      "source": [
        "### What is contained in this dataset?"
      ],
      "metadata": {
        "id": "rNtXgZwN3Km8"
      }
    },
    {
      "cell_type": "code",
      "source": [
        "print(f\"The MNIST training set has {len(dataset)} samples\")\n",
        "sample = next(iter(dataset))\n",
        "print(f\"A sample from MNIST looks like: {sample}\")"
      ],
      "metadata": {
        "colab": {
          "base_uri": "https://localhost:8080/"
        },
        "id": "WVTRYG7gtk3P",
        "outputId": "a5cbeb43-69b7-483b-a9bf-fd0f887fed03"
      },
      "execution_count": null,
      "outputs": [
        {
          "output_type": "stream",
          "name": "stdout",
          "text": [
            "The MNIST training set has 60000 samples\n",
            "A sample from MNIST looks like: (<PIL.Image.Image image mode=L size=28x28 at 0x7FAACCD04D10>, 5)\n"
          ]
        }
      ]
    },
    {
      "cell_type": "markdown",
      "source": [
        "`PIL` (frequently called Pillow) stands for Python Image Library. You can find the documentation [here](https://pillow.readthedocs.io/en/stable/).\n",
        "\n",
        "---\n",
        "\n",
        "**Question:** How many images are in the MNIST training set?\n",
        "\n",
        "**Answer:** $ 60000 $\n",
        "\n",
        "---\n",
        "\n",
        "**Question:** How big is each image in the dataset?\n",
        "\n",
        "**Answer:** $ 28 \\times 28 $\n",
        "\n",
        "For a benchmark dataset like MNIST, the image size is standardized. But in practice, you might want to check the size of each image programmatically (More on that later).\n",
        "\n",
        "---\n",
        "\n",
        "**Question:** What does `mode=L` mean?\n",
        "\n",
        "**Answer:** Black and white image"
      ],
      "metadata": {
        "id": "GNzLpFKc1kpN"
      }
    },
    {
      "cell_type": "code",
      "source": [
        "img, label = sample"
      ],
      "metadata": {
        "id": "y6K4l3zg3FmJ"
      },
      "execution_count": null,
      "outputs": []
    },
    {
      "cell_type": "markdown",
      "source": [
        "### What does a single sample from the dataset look like?"
      ],
      "metadata": {
        "id": "Cvgdf1PB3Dxb"
      }
    },
    {
      "cell_type": "code",
      "source": [
        "# TODO: Plot `img`\n",
        "plt.imshow(img, cmap=plt.cm.gray)\n",
        "plt.axis('off')\n",
        "plt.title(f\"A hand-drawn {label}\")\n",
        "plt.show()"
      ],
      "metadata": {
        "colab": {
          "base_uri": "https://localhost:8080/",
          "height": 264
        },
        "id": "oQkuyasIulUW",
        "outputId": "192ae6cd-3eb0-406f-bf09-7dbef71a6085",
        "collapsed": true
      },
      "execution_count": null,
      "outputs": [
        {
          "output_type": "display_data",
          "data": {
            "image/png": "[encoded data removed]",
            "text/plain": [
              "<Figure size 432x288 with 1 Axes>"
            ]
          },
          "metadata": {
            "needs_background": "light"
          }
        }
      ]
    },
    {
      "cell_type": "markdown",
      "source": [
        "### How many examples are there for each class (type of digit)?"
      ],
      "metadata": {
        "id": "1N9rdHlT3R5k"
      }
    },
    {
      "cell_type": "code",
      "source": [
        "# TODO: Calculate Frequencies\n",
        "frequencies = {}\n",
        "for img, label in dataset:\n",
        "  if label not in frequencies:\n",
        "    frequencies[label] = 0\n",
        "  frequencies[label] += 1\n",
        "\n",
        "  # Just checking that all images are the same size.\n",
        "  # Alternatively: Plot the size of the images\n",
        "  assert img.size == (28, 28)"
      ],
      "metadata": {
        "id": "_Wxdfh9u3RKQ"
      },
      "execution_count": null,
      "outputs": []
    },
    {
      "cell_type": "code",
      "source": [
        "# TODO: Plot Frequencies\n",
        "plt.bar(x=frequencies.keys(),\n",
        "        height=frequencies.values(),\n",
        "        color=sns.color_palette(),\n",
        "        tick_label=[str(label) for label in frequencies])\n",
        "plt.title(\"MNIST Class Frequencies\")\n",
        "plt.xlabel(\"Ground Truth Class Label\")\n",
        "plt.ylabel(\"Frequency\")\n",
        "plt.show()"
      ],
      "metadata": {
        "colab": {
          "base_uri": "https://localhost:8080/",
          "height": 295
        },
        "id": "o9aOsFPms1Pi",
        "outputId": "fd7d55d6-5f6f-42eb-a89b-af69ea2d2403"
      },
      "execution_count": null,
      "outputs": [
        {
          "output_type": "display_data",
          "data": {
            "image/png": "[encoded data removed]",
            "text/plain": [
              "<Figure size 432x288 with 1 Axes>"
            ]
          },
          "metadata": {
            "needs_background": "light"
          }
        }
      ]
    },
    {
      "cell_type": "markdown",
      "source": [
        "### Let's look at samples from each class"
      ],
      "metadata": {
        "id": "TDVPTG3M3fOM"
      }
    },
    {
      "cell_type": "code",
      "source": [
        "NUM_CLASSES = 10\n",
        "SAMPLES_PER_CLASS = 5"
      ],
      "metadata": {
        "id": "kCsJdMA50F7R"
      },
      "execution_count": null,
      "outputs": []
    },
    {
      "cell_type": "code",
      "source": [
        "# TODO: Find `SAMPLES_PER_CLASS` images for each class in MNIST\n",
        "samples = {label: [] for label in range(NUM_CLASSES)}\n",
        "for img, label in dataset:\n",
        "  if all(len(preview) == SAMPLES_PER_CLASS for preview in samples.values()):\n",
        "    break\n",
        "  if len(samples[label]) < SAMPLES_PER_CLASS:\n",
        "    samples[label].append(img)"
      ],
      "metadata": {
        "id": "jBpAw_5Ys3Rv"
      },
      "execution_count": null,
      "outputs": []
    },
    {
      "cell_type": "code",
      "source": [
        "# TODO: Plot all collected samples\n",
        "fig, ax = plt.subplots(NUM_CLASSES, SAMPLES_PER_CLASS, figsize=(10, 15))\n",
        "for label, previews in samples.items():\n",
        "  for idx, preview in enumerate(previews):\n",
        "    ax[label, idx].imshow(preview, cmap=plt.cm.gray)\n",
        "    ax[label, idx].tick_params(\n",
        "        axis='both',\n",
        "        which='both',\n",
        "        left=False,\n",
        "        bottom=False,\n",
        "        labelbottom=False,\n",
        "        labelleft=False\n",
        "    )\n",
        "fig.show()"
      ],
      "metadata": {
        "colab": {
          "base_uri": "https://localhost:8080/",
          "height": 846
        },
        "id": "gH-Ll0Npzx01",
        "outputId": "81f9b3a3-01b1-41b7-eee0-693b8cabb95d"
      },
      "execution_count": null,
      "outputs": [
        {
          "output_type": "display_data",
          "data": {
            "image/png": "[encoded data removed]",
            "text/plain": [
              "<Figure size 720x1080 with 50 Axes>"
            ]
          },
          "metadata": {}
        }
      ]
    },
    {
      "cell_type": "markdown",
      "source": [
        "## Data Preparation.\n",
        "\n",
        "Before training our model, it's good to clean up our data to make the task more tractable and take some additional steps to safeguard against overfitting/underfitting."
      ],
      "metadata": {
        "id": "jBzQ2WWO61SY"
      }
    },
    {
      "cell_type": "markdown",
      "source": [
        "### Preprocessing Transforms"
      ],
      "metadata": {
        "id": "a7WglYYGCJyu"
      }
    },
    {
      "cell_type": "markdown",
      "source": [
        "**Question:** What is the best way to represent the target variable for the neural network?\n",
        "\n",
        "Let's say we have an input image:"
      ],
      "metadata": {
        "id": "e2tuoA-C542M"
      }
    },
    {
      "cell_type": "code",
      "source": [
        "img, label = next(iter(dataset))\n",
        "\n",
        "plt.imshow(img, cmap=plt.cm.gray)\n",
        "plt.axis('off')\n",
        "plt.show()"
      ],
      "metadata": {
        "colab": {
          "base_uri": "https://localhost:8080/",
          "height": 248
        },
        "id": "VT3XvOF-KQSU",
        "outputId": "e0b2468e-2270-4d68-ff32-59f3b918df05"
      },
      "execution_count": null,
      "outputs": [
        {
          "output_type": "display_data",
          "data": {
            "image/png": "[encoded data removed]",
            "text/plain": [
              "<Figure size 432x288 with 1 Axes>"
            ]
          },
          "metadata": {
            "needs_background": "light"
          }
        }
      ]
    },
    {
      "cell_type": "markdown",
      "source": [
        "For this sample input, we want the network to predict $ 5 $. However, there are some issues with teaching the network to predict a value $ \\hat{y} \\in [0,9] $...there's no inherent ordering in shape of digits and there's no way to express uncertainty between two classes.\n",
        "\n",
        "For example, how would the network express that it's not sure if a digit is a $ 1 $ or a $ 7 $? What does it mean when $ \\hat{y} = 3.5 $?"
      ],
      "metadata": {
        "id": "3okMaARUKzOs"
      }
    },
    {
      "cell_type": "markdown",
      "source": [
        "**Answer:** A better represetnation for our targets uses [one-hot encoding](https://en.wikipedia.org/wiki/One-hot#Machine_learning_and_statistics).\n",
        "\n",
        "\n",
        "Instead of having our label be $ y = 5 $, we will set our target to:\n",
        "\n",
        "$ y = \\begin{bmatrix} 0 & 0 & 0 & 0 & 0 & 1 & 0 & 0 & 0 & 0 \\end{bmatrix} $\n",
        "\n",
        "That way, there's no implicit ordering in the task, and if the network is equally sure that an input is a 1 or a 7, it can express the prediction like this:\n",
        "\n",
        "$ \\hat{y} = \\begin{bmatrix} 0 & 0.5 & 0 & 0 & 0 & 0 & 0 & 0.5 & 0 & 0 \\end{bmatrix} $"
      ],
      "metadata": {
        "id": "A_eu7cgLNMp3"
      }
    },
    {
      "cell_type": "code",
      "source": [
        "import torch.nn.functional as F\n",
        "from torchvision import transforms"
      ],
      "metadata": {
        "id": "qyHXOPn5NU5H"
      },
      "execution_count": null,
      "outputs": []
    },
    {
      "cell_type": "code",
      "source": [
        "# TODO: Define a transform to one-hot encode all samples\n",
        "class OneHotEncode(object):\n",
        "  \"\"\"One-hot encode the labels in the dataset.\"\"\"\n",
        "  def __call__(self, label):\n",
        "    if isinstance(label, int):\n",
        "      label = torch.Tensor([target]).long()\n",
        "    return F.one_hot(label, num_classes=NUM_CLASSES)"
      ],
      "metadata": {
        "id": "9wQcDl1fKyvV"
      },
      "execution_count": null,
      "outputs": []
    },
    {
      "cell_type": "code",
      "source": [
        "# TODO: Add some preprocessing transforms\n",
        "preprocessing = transforms.Compose([\n",
        "  # Convert the image from a PIL.Image.Image to a torch.FloatTensor.\n",
        "  transforms.ToTensor(),\n",
        "  # Normalize the inputs using the mean and stddeve of the dataset.\n",
        "  transforms.Normalize((0.1307,), (0.3081,))\n",
        "])"
      ],
      "metadata": {
        "id": "zNfU4ZLa0EEv"
      },
      "execution_count": null,
      "outputs": []
    },
    {
      "cell_type": "code",
      "source": [
        "dataset = MNIST('./sample_data', \n",
        "                train=True, \n",
        "                transform=preprocessing, \n",
        "                target_transform=OneHotEncode())"
      ],
      "metadata": {
        "id": "3WXOTt0nEZvM"
      },
      "execution_count": null,
      "outputs": []
    },
    {
      "cell_type": "markdown",
      "source": [
        "### Split the dataset"
      ],
      "metadata": {
        "id": "Q0cA-lMFEqyr"
      }
    },
    {
      "cell_type": "code",
      "source": [
        "TRAIN_RATIO = 0.8\n",
        "train_size = int(len(dataset) * TRAIN_RATIO)\n",
        "val_size = len(dataset) - train_size\n",
        "print(f\"Train set percentage: {TRAIN_RATIO * 100:.2f}%\")\n",
        "print(f\"Validation set percentage: {(1 - TRAIN_RATIO) * 100:.2f}%\")"
      ],
      "metadata": {
        "colab": {
          "base_uri": "https://localhost:8080/"
        },
        "id": "cRiFY9RhEsxb",
        "outputId": "98c304fe-9d59-4242-dd7f-b88410725647"
      },
      "execution_count": null,
      "outputs": [
        {
          "output_type": "stream",
          "name": "stdout",
          "text": [
            "Train set percentage: 80.00%\n",
            "Validation set percentage: 20.00%\n"
          ]
        }
      ]
    },
    {
      "cell_type": "code",
      "source": [
        "# TODO: Split the dataset into a training and validation set\n",
        "train_set, val_set = torch.utils.data.random_split(dataset,\n",
        "                                                   [train_size, val_size],\n",
        "                                                   generator=torch.Generator().manual_seed(42))\n",
        "print(f\"Generator training:validation splits of {len(train_set)}:{len(val_set)} images\")"
      ],
      "metadata": {
        "id": "R-T5Qqj3FP9Z",
        "colab": {
          "base_uri": "https://localhost:8080/"
        },
        "outputId": "64b19727-0805-4b05-cbaf-bfa395862a24"
      },
      "execution_count": null,
      "outputs": [
        {
          "output_type": "stream",
          "name": "stdout",
          "text": [
            "Generator training:validation splits of 48000:12000 images\n"
          ]
        }
      ]
    },
    {
      "cell_type": "markdown",
      "source": [
        "### Load the dataset from disk in batches"
      ],
      "metadata": {
        "id": "1IdkyvhdGEB4"
      }
    },
    {
      "cell_type": "code",
      "source": [
        "BATCH_SIZE = 32"
      ],
      "metadata": {
        "id": "oGAMR7EbOjEr"
      },
      "execution_count": null,
      "outputs": []
    },
    {
      "cell_type": "markdown",
      "source": [
        "**Question:** What is the benefit of loading the data batches when training the neural network?\n",
        "\n",
        "**Answer:** Maximize your memory usage, without losing time for disk accesses."
      ],
      "metadata": {
        "id": "eILOcE_Z1TBN"
      }
    },
    {
      "cell_type": "code",
      "source": [
        "# TODO: Create a data loader for the training dataset\n",
        "train_loader = torch.utils.data.DataLoader(train_set,\n",
        "                                           batch_size=BATCH_SIZE,\n",
        "                                           shuffle=True,\n",
        "                                           generator=torch.Generator().manual_seed(40))"
      ],
      "metadata": {
        "id": "LSmq8awoGHlZ"
      },
      "execution_count": null,
      "outputs": []
    },
    {
      "cell_type": "code",
      "source": [
        "# TODO: Create a data loader for the validation dataset\n",
        "val_loader = torch.utils.data.DataLoader(val_set, batch_size=BATCH_SIZE)"
      ],
      "metadata": {
        "id": "N4H1V9MIPCHI"
      },
      "execution_count": null,
      "outputs": []
    },
    {
      "cell_type": "markdown",
      "source": [
        "**Question:** Why do we shuffle the training set, but not the validation set?\n",
        "\n",
        "**Answer:** The model doesn't update itself on the validation set, so there's no need.\n"
      ],
      "metadata": {
        "id": "MydahR4X1DGK"
      }
    },
    {
      "cell_type": "markdown",
      "source": [
        "# Designing a Neural Network"
      ],
      "metadata": {
        "id": "Nn0o8cPr2kPE"
      }
    },
    {
      "cell_type": "markdown",
      "source": [
        "## A Simple Model"
      ],
      "metadata": {
        "id": "PaJm1M9844QK"
      }
    },
    {
      "cell_type": "code",
      "source": [
        "# TODO: Let's make a single-layer neural network\n",
        "class NeuralNetwork(nn.Module):\n",
        "  def __init__(self):\n",
        "    super().__init__(self)\n",
        "    self.fc = nn.Linear(784, 10)\n",
        "    self.softmax = nn.Softmax()\n",
        "\n",
        "  def forward(self, x):\n",
        "    out = x.flatten()\n",
        "    out = self.fc(out)\n",
        "    out = self.softmax(out)\n",
        "    return out"
      ],
      "metadata": {
        "id": "pey2o4HT1REc"
      },
      "execution_count": null,
      "outputs": []
    },
    {
      "cell_type": "markdown",
      "source": [
        "**Question:** How do we know how many input units should our network have?\n",
        "\n",
        "**Answer:** $ 28 x 28 = 784$\n",
        "\n",
        "--- \n",
        "\n",
        "**Question:** How do we know how many output units should our network have?\n",
        "\n",
        "**Answer:** $ 10 $, because the output vector is one-hot encoded."
      ],
      "metadata": {
        "id": "vHDSn-0J5pK6"
      }
    },
    {
      "cell_type": "markdown",
      "source": [
        "## A Convolutional Neural Network\n",
        "\n",
        "Convolutional Neural Networks (CNNs) are a special type of neural network that use matrix convolutions instead of matrix products, and as a result, are not fully connected. They tend to be much more efficient on large input-sizes and more spatially aware, which makes them great for dealing with image data (among others)."
      ],
      "metadata": {
        "id": "W0G5I_sY5C0P"
      }
    },
    {
      "cell_type": "code",
      "source": [
        "# TODO: Let's make a simple CNN"
      ],
      "metadata": {
        "id": "FJr85svx5jUY"
      },
      "execution_count": null,
      "outputs": []
    },
    {
      "cell_type": "markdown",
      "source": [
        "# Training the Model"
      ],
      "metadata": {
        "id": "h1v0HN8S2oAH"
      }
    },
    {
      "cell_type": "markdown",
      "source": [
        "## GPUs\n",
        "\n",
        "GPUs are a special type of processing unit that are optimized for small mathematical calculations like addition and multiplication. Since neural networks are largely composed of matrix multiplications, GPUs can make them run an order of magnitude faster. When training a neural network, you should always use a GPU."
      ],
      "metadata": {
        "id": "AlBDztm025M3"
      }
    },
    {
      "cell_type": "code",
      "source": [
        "if torch.cuda.is_available():\n",
        "  for device_id in range(torch.cuda.device_count()):\n",
        "    print(torch.cuda.get_device_name(device_id), \n",
        "          torch.cuda.get_device_properties(device_id))\n",
        "else:\n",
        "  print('No GPU enabled!')"
      ],
      "metadata": {
        "id": "lwRhZpfu2pFx",
        "colab": {
          "base_uri": "https://localhost:8080/"
        },
        "outputId": "48d710cf-f670-4725-bf9f-3bdb450898f4"
      },
      "execution_count": null,
      "outputs": [
        {
          "output_type": "stream",
          "name": "stdout",
          "text": [
            "Tesla T4 _CudaDeviceProperties(name='Tesla T4', major=7, minor=5, total_memory=15109MB, multi_processor_count=40)\n"
          ]
        }
      ]
    },
    {
      "cell_type": "code",
      "source": [
        "# TODO: Create a PyTorch device.\n",
        "device = torch.cuda.device(1)"
      ],
      "metadata": {
        "id": "oLMtsuvo3aRP"
      },
      "execution_count": null,
      "outputs": []
    },
    {
      "cell_type": "markdown",
      "source": [
        "## Train the network"
      ],
      "metadata": {
        "id": "2Kx43vNRiL6B"
      }
    },
    {
      "cell_type": "code",
      "source": [
        ""
      ],
      "metadata": {
        "id": "f16vuuNDiNVX"
      },
      "execution_count": null,
      "outputs": []
    },
    {
      "cell_type": "markdown",
      "source": [
        "# Evaluation"
      ],
      "metadata": {
        "id": "jyy0gq0x2qKh"
      }
    },
    {
      "cell_type": "code",
      "source": [
        "    # y = M * X + b\n",
        "    # check the error\n",
        "    # update M and b\n",
        "    # repeat"
      ],
      "metadata": {
        "id": "O1t5iWam2sV1"
      },
      "execution_count": null,
      "outputs": []
    },
    {
      "cell_type": "markdown",
      "source": [
        "# Demo"
      ],
      "metadata": {
        "id": "E54lgT9_2sqJ"
      }
    },
    {
      "cell_type": "code",
      "source": [
        ""
      ],
      "metadata": {
        "id": "MSwcBr5W2tW8"
      },
      "execution_count": null,
      "outputs": []
    }
  ]
}